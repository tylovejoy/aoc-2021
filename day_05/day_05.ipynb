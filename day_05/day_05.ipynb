{
 "cells": [
  {
   "cell_type": "code",
   "execution_count": 145,
   "id": "40ea1dff-dbb0-4976-a50b-b8d0e088ac38",
   "metadata": {},
   "outputs": [],
   "source": [
    "with open(\"input.txt\") as f:\n",
    "    lines = f.readlines()"
   ]
  },
  {
   "cell_type": "code",
   "execution_count": 146,
   "id": "50320319-703f-4e41-aad5-00b8f84da1f3",
   "metadata": {},
   "outputs": [],
   "source": [
    "# Part 1\n",
    "class Vector:\n",
    "    def __init__(self, coordinates):\n",
    "        self.x1 = coordinates[0]\n",
    "        self.y1 = coordinates[1]\n",
    "        self.x2 = coordinates[2]\n",
    "        self.y2 = coordinates[3]\n",
    "    \n",
    "    def __repr__(self):\n",
    "        return f\"({self.x1}, {self.y1}), ({self.x2}, {self.y2})\""
   ]
  },
  {
   "cell_type": "code",
   "execution_count": 147,
   "id": "61c03ea6-6aaa-4826-ac75-46b6b51b3127",
   "metadata": {},
   "outputs": [],
   "source": [
    "lines = [list(map(int, line.replace(\",\", \" \").replace(\" -> \", \" \").split())) for line in lines]\n",
    "vectors = [Vector(line) for line in lines]"
   ]
  },
  {
   "cell_type": "code",
   "execution_count": 148,
   "id": "fa168631-df98-4e29-9505-620071ce5eaa",
   "metadata": {},
   "outputs": [
    {
     "name": "stdout",
     "output_type": "stream",
     "text": [
      "988\n",
      "990\n",
      "988\n",
      "986\n"
     ]
    }
   ],
   "source": [
    "print(max([x.x1 for x in vectors]))\n",
    "print(max([x.y1 for x in vectors]))\n",
    "print(max([x.x2 for x in vectors]))\n",
    "print(max([x.y2 for x in vectors]))"
   ]
  },
  {
   "cell_type": "code",
   "execution_count": 149,
   "id": "a06651ce-1a32-46ee-baa8-58ccbeac8bd7",
   "metadata": {},
   "outputs": [],
   "source": [
    "import numpy as np\n",
    "\n",
    "grid = np.zeros((1000, 1000))"
   ]
  },
  {
   "cell_type": "code",
   "execution_count": 150,
   "id": "50111e3b-12e9-4fe4-a22c-632619a1eb84",
   "metadata": {},
   "outputs": [
    {
     "name": "stdout",
     "output_type": "stream",
     "text": [
      "6007\n"
     ]
    }
   ],
   "source": [
    "def plot_line(vec, coordinate_plane):\n",
    "    min_y = min([vec.y1, vec.y2])\n",
    "    min_x = min([vec.x1, vec.x2])\n",
    "    \n",
    "    if vec.x1 == vec.x2: \n",
    "        for i in range(abs(vec.y1 - vec.y2) + 1):\n",
    "            coordinate_plane[vec.x1][min_y + i] += 1\n",
    "\n",
    "    elif vec.y1 == vec.y2:\n",
    "        for i in range(abs(vec.x1 - vec.x2) + 1):\n",
    "            coordinate_plane[min_x + i][vec.y1] += 1\n",
    " \n",
    "    return coordinate_plane\n",
    "\n",
    "for v in vectors:\n",
    "    grid = plot_line(v, grid)\n",
    "    \n",
    "print(np.count_nonzero(grid > 1))\n"
   ]
  },
  {
   "cell_type": "code",
   "execution_count": 151,
   "id": "4346226c-fd99-45e9-b28a-bf667ae0b19b",
   "metadata": {},
   "outputs": [
    {
     "name": "stdout",
     "output_type": "stream",
     "text": [
      "19349\n"
     ]
    }
   ],
   "source": [
    "# Part 2\n",
    "grid = np.zeros((1000, 1000))\n",
    "\n",
    "def plot_line(vec, coordinate_plane):\n",
    "    min_y = min([vec.y1, vec.y2])\n",
    "    min_x = min([vec.x1, vec.x2])\n",
    "    \n",
    "    if vec.x1 == vec.x2: \n",
    "        for i in range(abs(vec.y1 - vec.y2) + 1):\n",
    "            coordinate_plane[vec.x1][min_y + i] += 1\n",
    "\n",
    "    elif vec.y1 == vec.y2:\n",
    "        for i in range(abs(vec.x1 - vec.x2) + 1):\n",
    "            coordinate_plane[min_x + i][vec.y1] += 1\n",
    "    \n",
    "    else:\n",
    "        if vec.x1 < vec.x2 and vec.y1 < vec.y2:\n",
    "            opt1, opt2 = (1, 1)\n",
    "        elif vec.x1 > vec.x2 and vec.y1 < vec.y2:\n",
    "            opt1, opt2 = (-1, 1)\n",
    "        elif vec.x1 < vec.x2 and vec.y1 > vec.y2:\n",
    "            opt1, opt2 = (1, -1)\n",
    "        else:\n",
    "            opt1, opt2 = (-1, -1)\n",
    "            \n",
    "        for i in range(abs(vec.x1 - vec.x2) + 1):  \n",
    "            coordinate_plane[vec.x1 + (i * opt1)][vec.y1 + (i * opt2)] += 1\n",
    " \n",
    "    return coordinate_plane\n",
    "\n",
    "for v in vectors:\n",
    "    grid = plot_line(v, grid)\n",
    "    \n",
    "print(np.count_nonzero(grid > 1))"
   ]
  }
 ],
 "metadata": {
  "kernelspec": {
   "display_name": "Python 3",
   "language": "python",
   "name": "python3"
  },
  "language_info": {
   "codemirror_mode": {
    "name": "ipython",
    "version": 3
   },
   "file_extension": ".py",
   "mimetype": "text/x-python",
   "name": "python",
   "nbconvert_exporter": "python",
   "pygments_lexer": "ipython3",
   "version": "3.8.8"
  }
 },
 "nbformat": 4,
 "nbformat_minor": 5
}
