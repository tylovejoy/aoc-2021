{
  "nbformat": 4,
  "nbformat_minor": 0,
  "metadata": {
    "colab": {
      "name": "day01.ipynb",
      "provenance": [],
      "collapsed_sections": []
    },
    "kernelspec": {
      "name": "python3",
      "display_name": "Python 3"
    },
    "language_info": {
      "name": "python"
    }
  },
  "cells": [
    {
      "cell_type": "code",
      "metadata": {
        "id": "xmeIDprS1piu"
      },
      "source": [
        "with open(\"input.txt\", \"r\") as f:\n",
        "    lines = [int(x) for x in f.readlines()]"
      ],
      "execution_count": null,
      "outputs": []
    },
    {
      "cell_type": "code",
      "metadata": {
        "id": "WXM9RbcpEONq"
      },
      "source": [
        "# Part 1\n",
        "larger = 0\n",
        "cur_depth = 0\n",
        "for i, line in enumerate(lines):\n",
        "    if i == 0:\n",
        "        cur_depth = line\n",
        "        continue\n",
        "    if line > cur_depth:\n",
        "        larger += 1\n",
        "\n",
        "    cur_depth = line\n",
        "print(larger)"
      ],
      "execution_count": null,
      "outputs": []
    },
    {
      "cell_type": "code",
      "metadata": {
        "id": "OqNw8ZLUETRw"
      },
      "source": [
        "# Part 2\n",
        "larger = 0\n",
        "cur_depth = 0\n",
        "for i, line in enumerate(lines):\n",
        "    if i == len(lines) - 2:\n",
        "        break\n",
        "    three_measurement = line + lines[i+1] + lines[i+2]\n",
        "    \n",
        "    if i != 0 and three_measurement > cur_depth:\n",
        "        larger += 1\n",
        "    cur_depth = three_measurement    \n",
        "print(larger)"
      ],
      "execution_count": null,
      "outputs": []
    }
  ]
}