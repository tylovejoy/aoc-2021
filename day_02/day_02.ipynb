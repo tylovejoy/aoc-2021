{
  "nbformat": 4,
  "nbformat_minor": 0,
  "metadata": {
    "colab": {
      "name": "AoCDay2.ipynb",
      "provenance": [],
      "collapsed_sections": []
    },
    "kernelspec": {
      "name": "python3",
      "display_name": "Python 3"
    },
    "language_info": {
      "name": "python"
    }
  },
  "cells": [
    {
      "cell_type": "code",
      "metadata": {
        "id": "1pHV20ydjk2E"
      },
      "source": [
        "with open(\"input.txt\", \"r\") as f:\n",
        "    lines = [line.split() for line in f.readlines()]"
      ],
      "execution_count": 14,
      "outputs": []
    },
    {
      "cell_type": "code",
      "metadata": {
        "colab": {
          "base_uri": "https://localhost:8080/"
        },
        "id": "gY54UeWZj7cT",
        "outputId": "bacde866-118a-4f9d-880a-c1f839e92f0c"
      },
      "source": [
        "# Part 1\n",
        "direction = {\n",
        "    \"forward\": 0,\n",
        "    \"down\": 0,\n",
        "    \"up\": 0,\n",
        "}\n",
        "\n",
        "for line in lines:\n",
        "    direction[line[0]] += int(line[1])\n",
        "\n",
        "print(direction[\"down\"] - direction[\"up\"]) * direction[\"forward\"]"
      ],
      "execution_count": 7,
      "outputs": [
        {
          "output_type": "stream",
          "name": "stdout",
          "text": [
            "1746616\n"
          ]
        }
      ]
    },
    {
      "cell_type": "code",
      "metadata": {
        "colab": {
          "base_uri": "https://localhost:8080/"
        },
        "id": "FBfY29exl1TT",
        "outputId": "40c4a604-13ca-48ce-cf19-5962d9a3fe1f"
      },
      "source": [
        "#part 2\n",
        "depth = 0\n",
        "direction = {\n",
        "    \"forward\": 0,\n",
        "    \"down\": 0,\n",
        "    \"up\": 0,\n",
        "}\n",
        "\n",
        "for line in lines:\n",
        "    line[1] = int(line[1])\n",
        "    if line[0] == \"forward\":\n",
        "        direction[line[0]] += line[1]\n",
        "        depth += line[1] * (direction[\"down\"] - direction[\"up\"])\n",
        "    else:\n",
        "        direction[line[0]] += line[1]\n",
        "\n",
        "\n",
        "print(depth * direction[\"forward\"])"
      ],
      "execution_count": 19,
      "outputs": [
        {
          "output_type": "stream",
          "name": "stdout",
          "text": [
            "1741971043\n"
          ]
        }
      ]
    }
  ]
}