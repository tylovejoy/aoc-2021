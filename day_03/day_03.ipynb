{
  "nbformat": 4,
  "nbformat_minor": 0,
  "metadata": {
    "colab": {
      "name": "Untitled0.ipynb",
      "provenance": [],
      "collapsed_sections": []
    },
    "kernelspec": {
      "name": "python3",
      "display_name": "Python 3"
    },
    "language_info": {
      "name": "python"
    }
  },
  "cells": [
    {
      "cell_type": "code",
      "metadata": {
        "id": "jFSdT2Tv2oPO"
      },
      "source": [
        "from collections import Counter\n",
        "\n",
        "with open(\"input.txt\") as f:\n",
        "    lines = f.readlines()\n",
        "lines = [line.strip() for line in lines]"
      ],
      "execution_count": 90,
      "outputs": []
    },
    {
      "cell_type": "code",
      "metadata": {
        "colab": {
          "base_uri": "https://localhost:8080/"
        },
        "id": "YaGWH_PF26wy",
        "outputId": "169e0868-6a14-44b0-90c5-dfe75a3c9b21"
      },
      "source": [
        "# Part 1\n",
        "counters = []\n",
        "for bit in range(len(lines[0])):\n",
        "    counters.append(Counter([line[bit] for line in lines]).most_common(2))\n",
        "gamma = int(\"\".join([counters[line][0][0] for line in range(len(counters))]), 2)\n",
        "epsilon = int(\"\".join([counters[line][1][0] for line in range(len(counters))]), 2)\n",
        "print(gamma * epsilon)"
      ],
      "execution_count": null,
      "outputs": [
        {
          "output_type": "stream",
          "name": "stdout",
          "text": [
            "4118544\n"
          ]
        }
      ]
    },
    {
      "cell_type": "code",
      "metadata": {
        "colab": {
          "base_uri": "https://localhost:8080/"
        },
        "id": "wLaLFDKR-d3f",
        "outputId": "93d14072-11ec-41f2-d119-3f252bee462e"
      },
      "source": [
        "# Part 2\n",
        "def find_result(arr, preferred):\n",
        "    arr = arr.copy()\n",
        "    for bit in range(len(lines[0])):\n",
        "        if len(arr) == 1:\n",
        "            break\n",
        "        counter = Counter([line[bit] for line in arr]).most_common(2)\n",
        "        if counter[0][1] == counter[1][1]:\n",
        "            common_bit = preferred\n",
        "        else:\n",
        "            common_bit = counter[0 if preferred == \"1\" else 1][0]\n",
        "        arr = [arr[x] for x in range(len(arr)) if arr[x][bit] == common_bit]\n",
        "    return int(arr[0], 2)\n",
        "\n",
        "print(find_result(lines, \"1\") * find_result(lines, \"0\"))"
      ],
      "execution_count": 89,
      "outputs": [
        {
          "output_type": "stream",
          "name": "stdout",
          "text": [
            "3832770\n"
          ]
        }
      ]
    }
  ]
}