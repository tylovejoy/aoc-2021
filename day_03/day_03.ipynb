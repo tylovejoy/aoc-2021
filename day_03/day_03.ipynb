{
  "nbformat": 4,
  "nbformat_minor": 0,
  "metadata": {
    "colab": {
      "name": "Untitled0.ipynb",
      "provenance": [],
      "collapsed_sections": []
    },
    "kernelspec": {
      "name": "python3",
      "display_name": "Python 3"
    },
    "language_info": {
      "name": "python"
    }
  },
  "cells": [
    {
      "cell_type": "code",
      "metadata": {
        "id": "jFSdT2Tv2oPO"
      },
      "source": [
        "with open(\"input.txt\") as f:\n",
        "    lines = f.readlines()\n",
        "lines = [line.strip() for line in lines]\n",
        "\n",
        "from collections import Counter"
      ],
      "execution_count": 82,
      "outputs": []
    },
    {
      "cell_type": "code",
      "metadata": {
        "colab": {
          "base_uri": "https://localhost:8080/"
        },
        "id": "YaGWH_PF26wy",
        "outputId": "169e0868-6a14-44b0-90c5-dfe75a3c9b21"
      },
      "source": [
        "# Part 1\n",
        "counters = []\n",
        "for bit in range(len(lines[0])):\n",
        "    counters.append(Counter([line[bit] for line in lines]).most_common(2))\n",
        "gamma = int(\"\".join([counters[line][0][0] for line in range(len(counters))]), 2)\n",
        "epsilon = int(\"\".join([counters[line][1][0] for line in range(len(counters))]), 2)\n",
        "print(gamma * epsilon)"
      ],
      "execution_count": 84,
      "outputs": [
        {
          "output_type": "stream",
          "name": "stdout",
          "text": [
            "4118544\n"
          ]
        }
      ]
    },
    {
      "cell_type": "code",
      "metadata": {
        "colab": {
          "base_uri": "https://localhost:8080/"
        },
        "id": "wLaLFDKR-d3f",
        "outputId": "051354ba-abd5-4549-c5db-43228d453232"
      },
      "source": [
        "# Part 2\n",
        "o2 = lines\n",
        "co2 = lines\n",
        "for bit in range(len(lines[0])):\n",
        "    if len(o2) != 1:\n",
        "        counter1 = Counter([line[bit] for line in o2]).most_common(2)\n",
        "        if counter1[0][1] == counter1[1][1]:\n",
        "            common_bit = '1'\n",
        "        else:\n",
        "            common_bit = counter1[0][0]\n",
        "        o2 = [o2[x] for x in range(len(o2)) if o2[x][bit] == common_bit]\n",
        "    if len(co2) != 1:\n",
        "        counter2 = Counter([line[bit] for line in co2]).most_common(2)\n",
        "        if counter2[0][1] == counter2[1][1]:\n",
        "            least_common_bit = '0'\n",
        "        else:\n",
        "            least_common_bit = counter2[1][0]\n",
        "        co2 = [co2[x] for x in range(len(co2)) if co2[x][bit] == least_common_bit]\n",
        "print(int(o2[0], 2) * int(co2[0], 2))"
      ],
      "execution_count": 85,
      "outputs": [
        {
          "output_type": "stream",
          "name": "stdout",
          "text": [
            "3832770\n"
          ]
        }
      ]
    }
  ]
}