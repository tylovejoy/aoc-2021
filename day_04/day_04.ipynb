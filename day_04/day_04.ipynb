{
 "cells": [
  {
   "cell_type": "code",
   "execution_count": 171,
   "id": "823faefe-7914-4a52-b986-6d052a28074f",
   "metadata": {},
   "outputs": [],
   "source": [
    "with open(\"input.txt\") as f:\n",
    "    lines = f.readlines()\n",
    "lines = [line.strip(\"\\n\") for line in lines]"
   ]
  },
  {
   "cell_type": "code",
   "execution_count": 172,
   "id": "e0a78f4f-bcfe-4ff2-97da-0d238aec7406",
   "metadata": {},
   "outputs": [],
   "source": [
    "# Part 1\n",
    "import numpy as np\n",
    "class BingoSheet:\n",
    "    def __init__(self, lines, numbers, bingos):\n",
    "        self.array = np.array([line.split() for line in lines], dtype=int)\n",
    "        self.numbers = numbers\n",
    "        self.bingos = bingos\n",
    "        self.win_round, self.win_num = self.find_winning_round()\n",
    "        self.score = self.find_score()\n",
    "        \n",
    "    def find_winning_round(self):\n",
    "        indicies = []\n",
    "        for i, num in enumerate(self.numbers):\n",
    "            indicies += list(zip(*np.where(self.array == num)))\n",
    "            for bingo in self.bingos:\n",
    "                if all(elem in indicies for elem in bingo):\n",
    "                    return i, num\n",
    "                    \n",
    "    def find_score(self):\n",
    "        for i, num in enumerate(self.numbers):\n",
    "            self.array = np.where(self.array == num, 0, self.array)\n",
    "            if i == self.win_round:\n",
    "                return np.sum(self.array) * self.win_num"
   ]
  },
  {
   "cell_type": "code",
   "execution_count": 173,
   "id": "28edb6b0-6186-4fd8-bc82-5bd13a1b125b",
   "metadata": {},
   "outputs": [
    {
     "data": {
      "text/plain": [
       "(26, 41, 35711)"
      ]
     },
     "execution_count": 173,
     "metadata": {},
     "output_type": "execute_result"
    }
   ],
   "source": [
    "def generate_bingos(grid_size):\n",
    "    for i in range(grid_size):\n",
    "        yield [(x, i) for x in range(grid_size)] \n",
    "        yield [(i, y) for y in range(grid_size)]\n",
    "\n",
    "number_stream = []\n",
    "sheet_lines = []\n",
    "sheets = []\n",
    "\n",
    "bingos = list(generate_bingos(5))\n",
    "\n",
    "for i, line in enumerate(lines):\n",
    "    if i == 0:\n",
    "        number_stream = [int(x) for x in line.split(\",\")]\n",
    "        continue\n",
    "    if i == 1:\n",
    "        continue\n",
    "\n",
    "    if not line:\n",
    "        sheets.append(BingoSheet(sheet_lines, number_stream, bingos))\n",
    "        sheet_lines = []\n",
    "    else:\n",
    "        sheet_lines.append(line)\n",
    "\n",
    "min([(sheet.win_round, sheet.win_num, sheet.score)for sheet in sheets])"
   ]
  },
  {
   "cell_type": "code",
   "execution_count": 170,
   "id": "c3ac69df-f27a-47de-a963-3581914981cf",
   "metadata": {},
   "outputs": [
    {
     "data": {
      "text/plain": [
       "(85, 40, 4880)"
      ]
     },
     "execution_count": 170,
     "metadata": {},
     "output_type": "execute_result"
    }
   ],
   "source": [
    "# Part 2\n",
    "max([(sheet.win_round, sheet.win_num, sheet.score)for sheet in sheets])"
   ]
  }
 ],
 "metadata": {
  "kernelspec": {
   "display_name": "Python 3",
   "language": "python",
   "name": "python3"
  },
  "language_info": {
   "codemirror_mode": {
    "name": "ipython",
    "version": 3
   },
   "file_extension": ".py",
   "mimetype": "text/x-python",
   "name": "python",
   "nbconvert_exporter": "python",
   "pygments_lexer": "ipython3",
   "version": "3.8.8"
  }
 },
 "nbformat": 4,
 "nbformat_minor": 5
}
