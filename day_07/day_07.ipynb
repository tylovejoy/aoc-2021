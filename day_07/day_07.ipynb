{
  "nbformat": 4,
  "nbformat_minor": 0,
  "metadata": {
    "colab": {
      "name": "day_07.ipynb",
      "provenance": [],
      "collapsed_sections": []
    },
    "kernelspec": {
      "name": "python3",
      "display_name": "Python 3"
    },
    "language_info": {
      "name": "python"
    }
  },
  "cells": [
    {
      "cell_type": "code",
      "metadata": {
        "id": "DOA8qQkkc3ol"
      },
      "source": [
        "from statistics import median\n",
        "from math import floor\n",
        "\n",
        "with open(\"input.txt\") as f:\n",
        "    data = list(map(int, f.readline().split(\",\")))"
      ],
      "execution_count": 52,
      "outputs": []
    },
    {
      "cell_type": "code",
      "metadata": {
        "colab": {
          "base_uri": "https://localhost:8080/"
        },
        "id": "eZ8XCZSTdVxY",
        "outputId": "199f88f1-3586-4e36-9e3e-385d12b9f70d"
      },
      "source": [
        "# Part 1\n",
        "def task1(input_data):\n",
        "    med = median(input_data)\n",
        "    total = 0\n",
        "    for x in input_data:\n",
        "        total += int(abs(x - med))\n",
        "    return total\n",
        "task1(data)"
      ],
      "execution_count": 53,
      "outputs": [
        {
          "output_type": "execute_result",
          "data": {
            "text/plain": [
              "323647"
            ]
          },
          "metadata": {},
          "execution_count": 53
        }
      ]
    },
    {
      "cell_type": "code",
      "metadata": {
        "colab": {
          "base_uri": "https://localhost:8080/"
        },
        "id": "LMhSTIF1ee1m",
        "outputId": "434a94a6-0c16-4194-8451-5db8568673cc"
      },
      "source": [
        "# Part 2\n",
        "def task2(input_data):\n",
        "    avg = floor(sum(input_data) / len(input_data))\n",
        "    total = 0\n",
        "    for x in input_data:\n",
        "        for y in range(int(abs(x - avg))):\n",
        "            total += (y + 1)\n",
        "    return total\n",
        "\n",
        "task2(data)"
      ],
      "execution_count": 54,
      "outputs": [
        {
          "output_type": "execute_result",
          "data": {
            "text/plain": [
              "87640209"
            ]
          },
          "metadata": {},
          "execution_count": 54
        }
      ]
    }
  ]
}